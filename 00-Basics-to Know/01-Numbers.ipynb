{
 "cells": [
  {
   "cell_type": "markdown",
   "metadata": {},
   "source": [
    "# Python"
   ]
  },
  {
   "cell_type": "markdown",
   "metadata": {},
   "source": [
    "##### In this module we're going to learn about the Python and Python Numbers and how can we use them in our programs. \n",
    "\n",
    "Our focus for this module:\n",
    "\n",
    "    1. Types of Numbers in Python.\n",
    "    2. Basic Arithematics\n",
    "\n",
    "In Python, <b>\"Numbers\"</b> refer to a fundamental data type used to represent numerical values, primarily including <b>Integers</b> <i>(whole numbers)</i>, <b>Floating-point Numbers</b> <i>(decimals)</i>, and <b>complex numbers</b>; you can perform basic arithmetic operations like <b>addition, subtraction, multiplication, and division</b> on these numbers using standard operators like +, -, *, and / respectively. \n",
    "\n",
    "1. <b>Integers</b> <i>(Whole Number)</i>:\n",
    "\n",
    "Whole numbers without a fractional component are called integers. They could be zero <i>(0)</i>, negative <i>(-1, -2, -3)</i>, or positive<i>(1, 12, 43)</i>.\n",
    "\n",
    "2. <b>Floating-point Numbers</b> <i>(decimals)</i>:\n",
    "\n",
    "A decimal point added to a real number makes it a floating-point number. To represent fractional values, they are employed. <b>Eg</b>: <i>20.00, 56.2234, 1.00</i>\n",
    "\n",
    "3. <b>complex numbers</b>:\n",
    "\n",
    "The complex types of number are which contain imaginary and real components also. <b>Eg:</b> <i>z = 2 + 5j (or) a + bj</i>\n",
    "\n",
    "\n",
    "\n",
    "\n"
   ]
  },
  {
   "cell_type": "markdown",
   "metadata": {},
   "source": [
    "<table>\n",
    "<tr>\n",
    "    <th>Number \"Type\"</th>\n",
    "    <th>Examples</th>\n",
    "</tr>\n",
    "\n",
    "<tr>\n",
    "    <th>Integers</th>\n",
    "    <th><b>1, 2, 3</b></th>\n",
    "</tr>\n",
    "\n",
    "<tr>\n",
    "    <th>Floating Point Numbers</th>\n",
    "    <th><b>1.0, 2.0, 3.0</b></th>\n",
    "</tr>\n",
    "\n",
    "<tr>\n",
    "    <th>Complex Numbers</th>\n",
    "    <th><b>a + bj, 2 + 5j</b></th>\n",
    "</tr>\n",
    "</table>"
   ]
  },
  {
   "cell_type": "markdown",
   "metadata": {},
   "source": [
    "\n",
    "\n",
    "Now let's dive into the basic arithematics for numbers."
   ]
  },
  {
   "cell_type": "markdown",
   "metadata": {},
   "source": [
    "### 2. Basic Arithematics"
   ]
  },
  {
   "cell_type": "markdown",
   "metadata": {},
   "source": [
    "1. <b>Addition:</b>\n",
    " \n",
    " The process of combining two or more numbers to get a sum."
   ]
  },
  {
   "cell_type": "code",
   "execution_count": 1,
   "metadata": {},
   "outputs": [
    {
     "data": {
      "text/plain": [
       "5"
      ]
     },
     "execution_count": 1,
     "metadata": {},
     "output_type": "execute_result"
    }
   ],
   "source": [
    "# Addition\n",
    "2 + 3"
   ]
  },
  {
   "cell_type": "markdown",
   "metadata": {},
   "source": [
    "2. <b>Substraction:</b>\n",
    " \n",
    " The process of taking one number away from another to get a difference."
   ]
  },
  {
   "cell_type": "code",
   "execution_count": 2,
   "metadata": {},
   "outputs": [
    {
     "data": {
      "text/plain": [
       "3"
      ]
     },
     "execution_count": 2,
     "metadata": {},
     "output_type": "execute_result"
    }
   ],
   "source": [
    "# Substraction\n",
    "5 - 2"
   ]
  },
  {
   "cell_type": "markdown",
   "metadata": {},
   "source": [
    "3. <b>Multiplication:</b>\n",
    "\n",
    " The process of calculating the product of two or more numbers."
   ]
  },
  {
   "cell_type": "code",
   "execution_count": 3,
   "metadata": {},
   "outputs": [
    {
     "data": {
      "text/plain": [
       "10"
      ]
     },
     "execution_count": 3,
     "metadata": {},
     "output_type": "execute_result"
    }
   ],
   "source": [
    "5 * 2"
   ]
  },
  {
   "cell_type": "markdown",
   "metadata": {},
   "source": [
    "3. <b>Division</b>\n",
    "\n",
    "  The process of splitting a large group into equal smaller groups.\n",
    "  The symbol is <b>/</b>"
   ]
  },
  {
   "cell_type": "code",
   "execution_count": 4,
   "metadata": {},
   "outputs": [
    {
     "data": {
      "text/plain": [
       "5.0"
      ]
     },
     "execution_count": 4,
     "metadata": {},
     "output_type": "execute_result"
    }
   ],
   "source": [
    "10 / 2"
   ]
  },
  {
   "cell_type": "markdown",
   "metadata": {},
   "source": [
    "4. <b>Floor Division:</b>\n",
    "\n",
    " A division operation that returns the largest integer that is less than or equal to the result of the division. The symbol is <b>//</b>"
   ]
  },
  {
   "cell_type": "code",
   "execution_count": 5,
   "metadata": {},
   "outputs": [
    {
     "data": {
      "text/plain": [
       "1"
      ]
     },
     "execution_count": 5,
     "metadata": {},
     "output_type": "execute_result"
    }
   ],
   "source": [
    "7 // 4"
   ]
  },
  {
   "cell_type": "markdown",
   "metadata": {},
   "source": [
    "<i>Key Points:</i>\n",
    "\n",
    "<i>1. Division <b> (/) </b>: Returns the exact quotient of the floating-point numbers. \n",
    "    <b>Example:</b> 7 / 2 --> 3.5 </i>\n",
    "\n",
    "<i>2. Floor Division:<b> (//) </b>: Returns the quotient rounded down the nearest whole number (interger for int inputs, float for float inputs). <b>Example:</b> 7 // 2 --> 3</i>"
   ]
  },
  {
   "cell_type": "markdown",
   "metadata": {},
   "source": [
    "**So Whatif we want a remainder of of two numbers after division?**\n",
    "\n",
    " Here modulo operator is used for obtaining the remainder of the two numbers."
   ]
  },
  {
   "cell_type": "markdown",
   "metadata": {},
   "source": [
    "5. <b>Modulo:</b>\n",
    "\n",
    " The Operator returns the remainder after dividing one number by another. The symbol is <b>(%)</b>"
   ]
  },
  {
   "cell_type": "code",
   "execution_count": 6,
   "metadata": {},
   "outputs": [
    {
     "data": {
      "text/plain": [
       "3"
      ]
     },
     "execution_count": 6,
     "metadata": {},
     "output_type": "execute_result"
    }
   ],
   "source": [
    "# Modulo\n",
    "7 % 4"
   ]
  },
  {
   "cell_type": "markdown",
   "metadata": {},
   "source": [
    "6. <b>Powers:</b>\n",
    "\n",
    " Power is the mathematical operation where a number (base) is multiplied by itself for a certain number of times, defined by the exponent. Also known as <b>Exponetiation</b>\n",
    "\n",
    " $$a^b$$ "
   ]
  },
  {
   "cell_type": "code",
   "execution_count": 7,
   "metadata": {},
   "outputs": [
    {
     "data": {
      "text/plain": [
       "16"
      ]
     },
     "execution_count": 7,
     "metadata": {},
     "output_type": "execute_result"
    }
   ],
   "source": [
    "# Powers\n",
    "4 ** 2"
   ]
  },
  {
   "cell_type": "markdown",
   "metadata": {},
   "source": [
    "7. <b>Roots</b>\n",
    "\n",
    " A <b>root</b> of a number is a value that, when raised to a specific power, gives the original number.\n",
    "\n",
    " <b>Example:</b> \n",
    "    1. Square Root of 9 = 3. "
   ]
  },
  {
   "cell_type": "code",
   "execution_count": 8,
   "metadata": {},
   "outputs": [
    {
     "data": {
      "text/plain": [
       "2.0"
      ]
     },
     "execution_count": 8,
     "metadata": {},
     "output_type": "execute_result"
    }
   ],
   "source": [
    "# Roots \n",
    "4 ** 0.5"
   ]
  },
  {
   "cell_type": "code",
   "execution_count": null,
   "metadata": {},
   "outputs": [
    {
     "name": "stdout",
     "output_type": "stream",
     "text": [
      "3.0\n",
      "3.0\n"
     ]
    }
   ],
   "source": [
    "# Examples\n",
    "import math\n",
    "\n",
    "# Square Root\n",
    "print(math.sqrt(9)) # Output : 3.0\n",
    "\n",
    "## Cube Root\n",
    "print(27 ** (1/3)) # Output : 3.0"
   ]
  },
  {
   "cell_type": "markdown",
   "metadata": {},
   "source": [
    "### Order of Precedence\n",
    "\n",
    " Order od precedence is the rule of determining the correct sequence in which the operators are evaluated in an expression. Operators with higher precedence are excecuted first, unless the parentheses () explicitly defines the order.\n",
    "\n",
    "1. <b>Parentheses ()</b> – Highest precedence, evaluated first.\n",
    "2. <b>Exponents **</b> – Right-to-left evaluation.\n",
    "3. <b>Unary +, -, ~ </b>– Positive, negative, bitwise NOT.\n",
    "4. <b>Multiplication *</b>, Division /</b>, Floor Division //</b>, Modulo %</b> – Left-to-right.\n",
    "5. <b>Addition +</b>, Subtraction-</b> – Left-to-right.\n",
    "6. <b>Bitwise Shifts</b> <<, >>\n",
    "7. <b>Bitwise AND</b> &\n",
    "8. <b>Bitwise XOR</b> ^\n",
    "9. <b>Bitwise OR</b> |\n",
    "10. <b>Comparison Operators</b> ==, !=, >, <, >=, <=\n",
    "11. <b>Logical NOT</b> not\n",
    "12. <b>Logical AND</b> and\n",
    "13. <b>Logical OR</b> or – Lowest precedence."
   ]
  },
  {
   "cell_type": "code",
   "execution_count": 11,
   "metadata": {},
   "outputs": [
    {
     "data": {
      "text/plain": [
       "105"
      ]
     },
     "execution_count": 11,
     "metadata": {},
     "output_type": "execute_result"
    }
   ],
   "source": [
    "# Order of Precedence followed in Python\n",
    "2 + 10 * 10 + 3\n",
    "\n",
    "# First Multiplication as --> 10 * 10 = 100\n",
    "# Second Addition --> 2 + 3 = 5\n",
    "# Third as Addition --> 100 + 5 = 105\n",
    "# Output = 105"
   ]
  },
  {
   "cell_type": "code",
   "execution_count": 13,
   "metadata": {},
   "outputs": [
    {
     "data": {
      "text/plain": [
       "156"
      ]
     },
     "execution_count": 13,
     "metadata": {},
     "output_type": "execute_result"
    }
   ],
   "source": [
    "# The order of Precedence changes as Parentheses are explicitly defined. \n",
    "\n",
    "(2 + 10) * (10 + 3)\n",
    "\n",
    "# Here in this the Parentheses () changes the precedence \n",
    "# (2 + 10) = 12 and (10 + 3) = 13\n",
    "# Where Multiplication is out of the (), so it goes as 12 * 13 = 156"
   ]
  },
  {
   "cell_type": "markdown",
   "metadata": {},
   "source": [
    "#### ---------------------------------------------Next we've variable assignment-------------------------------------------------"
   ]
  }
 ],
 "metadata": {
  "kernelspec": {
   "display_name": "base",
   "language": "python",
   "name": "python3"
  },
  "language_info": {
   "codemirror_mode": {
    "name": "ipython",
    "version": 3
   },
   "file_extension": ".py",
   "mimetype": "text/x-python",
   "name": "python",
   "nbconvert_exporter": "python",
   "pygments_lexer": "ipython3",
   "version": "3.11.7"
  }
 },
 "nbformat": 4,
 "nbformat_minor": 2
}
