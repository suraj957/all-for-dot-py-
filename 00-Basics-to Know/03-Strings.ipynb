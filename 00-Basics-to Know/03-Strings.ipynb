{
 "cells": [
  {
   "cell_type": "markdown",
   "metadata": {},
   "source": [
    "# Strings"
   ]
  },
  {
   "cell_type": "markdown",
   "metadata": {},
   "source": [
    "A <b>string</b> is a sequence of characters. Python treat everything inside the quotes as a string. The Strings include numbers, letter, and also symbols. Strings are used to recort text information, such as names. Python understands the string \"hello' to be a sequence of letters in a specific order. \n",
    "\n",
    "`Note:` A string is a sequence of characters. Python treat everything inside the quotes as a string. The Strings include numbers, letter, and also symbols."
   ]
  },
  {
   "cell_type": "code",
   "execution_count": 1,
   "metadata": {},
   "outputs": [
    {
     "name": "stdout",
     "output_type": "stream",
     "text": [
      "string\n"
     ]
    }
   ],
   "source": [
    "a = \"string\" # a is treated as a variable of value \"string\" but the word inside the quotes are treated as a String data type.\n",
    "print(a)"
   ]
  },
  {
   "cell_type": "markdown",
   "metadata": {},
   "source": [
    "<b>In this module, we can focus on some points:</b>\n",
    "\n",
    "1. `Creating Strings`\n",
    "2. `Printing Strings`\n",
    "3. `String Indexing and Slicing`\n",
    "4. `String Properties`\n",
    "5. `String Methods`\n",
    "6. `String Formatting`"
   ]
  },
  {
   "cell_type": "markdown",
   "metadata": {},
   "source": [
    "## 1. Creating a Strings\n",
    "\n",
    "### Methods of Creating a String:\n",
    "1. <b>We can use double quotes as to define string.</b> `( \"Examples\")`\n",
    "2. <b>We can also use single quotes to define strings.</b> `( 'Example1')`\n",
    "3. <b>And, we can also use double/ single quotes three times for multi-line strings.</b> `( \"\"\" Example this is a string line \"\"\" )` or `( ' ' ' Example this is also a multiline string example' ' ' )`"
   ]
  },
  {
   "cell_type": "markdown",
   "metadata": {},
   "source": [
    "#### Single Quote Assignment"
   ]
  },
  {
   "cell_type": "code",
   "execution_count": 2,
   "metadata": {},
   "outputs": [
    {
     "data": {
      "text/plain": [
       "'String'"
      ]
     },
     "execution_count": 2,
     "metadata": {},
     "output_type": "execute_result"
    }
   ],
   "source": [
    "# Single word String\n",
    "'String'"
   ]
  },
  {
   "cell_type": "code",
   "execution_count": 4,
   "metadata": {},
   "outputs": [
    {
     "data": {
      "text/plain": [
       "'This sentence is also a String'"
      ]
     },
     "execution_count": 4,
     "metadata": {},
     "output_type": "execute_result"
    }
   ],
   "source": [
    "# Phrase or sentences as a string\n",
    "'This sentence is also a String'"
   ]
  },
  {
   "cell_type": "markdown",
   "metadata": {},
   "source": [
    "#### Double Quote Assignment"
   ]
  },
  {
   "cell_type": "code",
   "execution_count": 5,
   "metadata": {},
   "outputs": [
    {
     "data": {
      "text/plain": [
       "'String'"
      ]
     },
     "execution_count": 5,
     "metadata": {},
     "output_type": "execute_result"
    }
   ],
   "source": [
    "# Single word String\n",
    "\"String\""
   ]
  },
  {
   "cell_type": "code",
   "execution_count": 6,
   "metadata": {},
   "outputs": [
    {
     "data": {
      "text/plain": [
       "'This sentence is also a String'"
      ]
     },
     "execution_count": 6,
     "metadata": {},
     "output_type": "execute_result"
    }
   ],
   "source": [
    "# Phrase or sentences as a string\n",
    "\"This sentence is also a String\""
   ]
  },
  {
   "cell_type": "markdown",
   "metadata": {},
   "source": [
    "`Errors:` We cannot use single quotes with single quotes, because it will give you a `Syntax Error:`. \n",
    "\n",
    "`Example:` 'I'm a string' # This is will give a `Syntax Error` because it will take `'I'` as only a string but the interpreter will get confused to dectect `3 quotes '` ."
   ]
  },
  {
   "cell_type": "code",
   "execution_count": 8,
   "metadata": {},
   "outputs": [
    {
     "ename": "SyntaxError",
     "evalue": "unterminated string literal (detected at line 2) (2550723548.py, line 2)",
     "output_type": "error",
     "traceback": [
      "\u001b[1;36m  Cell \u001b[1;32mIn[8], line 2\u001b[1;36m\u001b[0m\n\u001b[1;33m    'I'm a string, but I will give an SyntaxError'\u001b[0m\n\u001b[1;37m                                                 ^\u001b[0m\n\u001b[1;31mSyntaxError\u001b[0m\u001b[1;31m:\u001b[0m unterminated string literal (detected at line 2)\n"
     ]
    }
   ],
   "source": [
    "# Danger\n",
    "'I'm a string, but I will give an SyntaxError' "
   ]
  },
  {
   "cell_type": "markdown",
   "metadata": {},
   "source": [
    "## 2. Printing a String\n",
    "\n",
    "Strings can be printed by single line of and we can also use `print()` function."
   ]
  },
  {
   "cell_type": "code",
   "execution_count": 9,
   "metadata": {},
   "outputs": [
    {
     "data": {
      "text/plain": [
       "'Hello User'"
      ]
     },
     "execution_count": 9,
     "metadata": {},
     "output_type": "execute_result"
    }
   ],
   "source": [
    "# Declaring a string\n",
    "'Hello User'"
   ]
  },
  {
   "cell_type": "code",
   "execution_count": 10,
   "metadata": {},
   "outputs": [
    {
     "data": {
      "text/plain": [
       "'Hello User 2'"
      ]
     },
     "execution_count": 10,
     "metadata": {},
     "output_type": "execute_result"
    }
   ],
   "source": [
    "# But the fun fact is we cannot output multiple line of string by this\n",
    "'Hello User 1'\n",
    "'Hello User 2'"
   ]
  },
  {
   "cell_type": "markdown",
   "metadata": {},
   "source": [
    "<b> For the multiple line of outputs we use `print()` function "
   ]
  },
  {
   "cell_type": "code",
   "execution_count": 12,
   "metadata": {},
   "outputs": [
    {
     "name": "stdout",
     "output_type": "stream",
     "text": [
      "This is the 1st line\n",
      "This is the 2nd line\n",
      "We can use \n",
      " for a new line of code\n",
      "\n",
      "\n",
      "This is in new line\n"
     ]
    }
   ],
   "source": [
    "print(\"This is the 1st line\")\n",
    "print(\"This is the 2nd line\")\n",
    "print(\"We can use \\n for a new line of code\")\n",
    "# If we only print(\\n) then the text will get transfered to new line\n",
    "print(\"\\n\")\n",
    "print(\"This is in new line\")"
   ]
  },
  {
   "cell_type": "markdown",
   "metadata": {},
   "source": [
    "## 3. String Indexing or Accessing Characters\n",
    "\n",
    "As we know, `strings` are the sequence of characters, so a user can access each and every element present in a `string`. \n",
    "\n",
    "`Strings` are strictly indexed, starting from 0 and -1 from the end. This gives the programer to retrieve any specific character from the string.\n",
    "\n",
    "Where the string indexing are accesed by using `[]`, as `s[0], s[1], s[2]`... and so on. "
   ]
  },
  {
   "cell_type": "code",
   "execution_count": 14,
   "metadata": {},
   "outputs": [
    {
     "name": "stdout",
     "output_type": "stream",
     "text": [
      "H\n",
      "o\n",
      "o\n"
     ]
    }
   ],
   "source": [
    "# Accessing the indexes.\n",
    "string = \"Hello\"\n",
    "\n",
    "# To access or print the element \"H\" we can use:\n",
    "print(string[0])    # Because the indexing starts from 0\n",
    "\n",
    "# To access or print the element \"o\" in \"Hello\" we can use 2 different methods:\n",
    "# Method 1\n",
    "print(string[4])    # With positive indexing\n",
    "\n",
    "#Method 2\n",
    "print(string[-1])   # With negative indexing"
   ]
  },
  {
   "cell_type": "markdown",
   "metadata": {},
   "source": [
    "<b>Let's try an `Error` example</b>:\n",
    "\n",
    "The Question arises, that what if a index goes out of range?"
   ]
  },
  {
   "cell_type": "code",
   "execution_count": 15,
   "metadata": {},
   "outputs": [
    {
     "ename": "IndexError",
     "evalue": "string index out of range",
     "output_type": "error",
     "traceback": [
      "\u001b[1;31m---------------------------------------------------------------------------\u001b[0m",
      "\u001b[1;31mIndexError\u001b[0m                                Traceback (most recent call last)",
      "Cell \u001b[1;32mIn[15], line 4\u001b[0m\n\u001b[0;32m      1\u001b[0m \u001b[38;5;66;03m# Accessing the indexes.\u001b[39;00m\n\u001b[0;32m      2\u001b[0m string \u001b[38;5;241m=\u001b[39m \u001b[38;5;124m\"\u001b[39m\u001b[38;5;124mHello\u001b[39m\u001b[38;5;124m\"\u001b[39m\n\u001b[1;32m----> 4\u001b[0m \u001b[38;5;28mprint\u001b[39m(string[\u001b[38;5;241m5\u001b[39m])\n",
      "\u001b[1;31mIndexError\u001b[0m: string index out of range"
     ]
    }
   ],
   "source": [
    "# Accessing the indexes.\n",
    "string = \"Hello\"\n",
    "\n",
    "print(string[5])"
   ]
  },
  {
   "cell_type": "markdown",
   "metadata": {},
   "source": [
    "This example throws an error of `IndexError:` string index out of range: \n",
    "\n",
    "This is because the maximum length of the string is `4`. <b>But how?</b>\n",
    "\n",
    "Because in `Hello`, \n",
    "\n",
    "<b>Positive Indexing</b>\n",
    "\n",
    "    `H` --> `[0]` then,\n",
    "    `e` --> `[1]` then,\n",
    "    `l` --> `[2]` then,\n",
    "    `l` --> `[3]` then,\n",
    "    `o` --> `[4]`. \n",
    "\n",
    "As Stings follow a strict indexing criteria of indexing starting from `0`,\n",
    "\n",
    "<b>Negative Indexing</b>\n",
    "\n",
    "    `H` --> `[-5]` then,\n",
    "    `e` --> `[-4]` then,\n",
    "    `l` --> `[-3]` then,\n",
    "    `l` --> `[-2]` then,\n",
    "    `0` --> `[-1]`. \n",
    "\n",
    "As Stings follow a strict indexing criteria of indexing starting from `0`,"
   ]
  },
  {
   "cell_type": "markdown",
   "metadata": {},
   "source": [
    "## 3. Slicing of an Index\n",
    "\n",
    "Slicinig is the way to extract porting of the string by defining start and end of the index by <code>string[start : End]</code>. \n",
    "\n",
    "Here, the <code>start</code> is the Starting Index and <code>End</code> is the Ending Index."
   ]
  },
  {
   "cell_type": "code",
   "execution_count": 32,
   "metadata": {},
   "outputs": [
    {
     "name": "stdout",
     "output_type": "stream",
     "text": [
      " Joshua\n",
      " Joshua\n"
     ]
    }
   ],
   "source": [
    "# Example\n",
    "name = \"Broad Joshua\"\n",
    "\n",
    "# Slicing by providing the start and End Index\n",
    "    # Method 1\n",
    "print(name[5:13])   # For Example we need to print only the last name of the name. \n",
    "\n",
    "    # Method 2\n",
    "print(name[5:])     # For Example we need to print only the last name of the name, here we can leave the end index as empty the string will automatically go to the end. "
   ]
  },
  {
   "cell_type": "markdown",
   "metadata": {},
   "source": [
    "<b>Same we can do for the First Name</b>, Give it a try and mail me."
   ]
  },
  {
   "cell_type": "markdown",
   "metadata": {},
   "source": [
    "<b>There is one more method in stings we can use to `Step Up` by `string[start : End : Step]`</b>. For this we will use the same string as `name`"
   ]
  },
  {
   "cell_type": "code",
   "execution_count": 33,
   "metadata": {},
   "outputs": [
    {
     "data": {
      "text/plain": [
       "'Broad Joshua'"
      ]
     },
     "execution_count": 33,
     "metadata": {},
     "output_type": "execute_result"
    }
   ],
   "source": [
    "name"
   ]
  },
  {
   "cell_type": "markdown",
   "metadata": {},
   "source": [
    "This gives everything in the string. As the Step up is only 1. Becasue by accessing every element from the string it increment it's `index` as 1."
   ]
  },
  {
   "cell_type": "code",
   "execution_count": 34,
   "metadata": {},
   "outputs": [
    {
     "name": "stdout",
     "output_type": "stream",
     "text": [
      "Broad Joshua\n"
     ]
    }
   ],
   "source": [
    "# Gives Everything\n",
    "print(name[::1])"
   ]
  },
  {
   "cell_type": "markdown",
   "metadata": {},
   "source": [
    "But if we want to access alternative element in the `String` then increment it's `index` by `2`"
   ]
  },
  {
   "cell_type": "code",
   "execution_count": 35,
   "metadata": {},
   "outputs": [
    {
     "name": "stdout",
     "output_type": "stream",
     "text": [
      "BodJsu\n"
     ]
    }
   ],
   "source": [
    "# Gives Alternative alements\n",
    "print(name[::2])"
   ]
  },
  {
   "cell_type": "markdown",
   "metadata": {},
   "source": [
    "We can also use this element indexing by our own indexing `Step Up`. Give it a try and don't forget to try also with `start` and `end` values also."
   ]
  },
  {
   "cell_type": "markdown",
   "metadata": {},
   "source": [
    "## 4. String Properties\n",
    "\n",
    "You must have heard that `strings` are generally `Immutable`. But what does this means?\n",
    "\n",
    "This means that once a `string` is created, it's values or the elements with in the strings cannot be changed or replaced by any other `element/ value.`"
   ]
  },
  {
   "cell_type": "code",
   "execution_count": 36,
   "metadata": {},
   "outputs": [
    {
     "data": {
      "text/plain": [
       "'Broad Joshua'"
      ]
     },
     "execution_count": 36,
     "metadata": {},
     "output_type": "execute_result"
    }
   ],
   "source": [
    "name"
   ]
  },
  {
   "cell_type": "markdown",
   "metadata": {},
   "source": [
    "Here in the error, it shows that it is a type error, as the `str` object dosen't suppot item assignment, means it's not mutable."
   ]
  },
  {
   "cell_type": "code",
   "execution_count": 37,
   "metadata": {},
   "outputs": [
    {
     "ename": "TypeError",
     "evalue": "'str' object does not support item assignment",
     "output_type": "error",
     "traceback": [
      "\u001b[1;31m---------------------------------------------------------------------------\u001b[0m",
      "\u001b[1;31mTypeError\u001b[0m                                 Traceback (most recent call last)",
      "Cell \u001b[1;32mIn[37], line 1\u001b[0m\n\u001b[1;32m----> 1\u001b[0m name[\u001b[38;5;241m3\u001b[39m] \u001b[38;5;241m=\u001b[39m \u001b[38;5;124m\"\u001b[39m\u001b[38;5;124mr\u001b[39m\u001b[38;5;124m\"\u001b[39m\n",
      "\u001b[1;31mTypeError\u001b[0m: 'str' object does not support item assignment"
     ]
    }
   ],
   "source": [
    "name[3] = \"r\""
   ]
  },
  {
   "cell_type": "markdown",
   "metadata": {},
   "source": [
    "<b>Concatination</b>: Concatination means, <b>joining</b> or <b>linkinig</b> things together in a sequence. In simple words, Combining two or more items end-to-end to form a single entity is called `Concatination`\n",
    "\n"
   ]
  },
  {
   "cell_type": "code",
   "execution_count": 38,
   "metadata": {},
   "outputs": [
    {
     "data": {
      "text/plain": [
       "'Broad Joshua is a good businessman'"
      ]
     },
     "execution_count": 38,
     "metadata": {},
     "output_type": "execute_result"
    }
   ],
   "source": [
    "# Concatination\n",
    "name + \" is a good businessman\""
   ]
  },
  {
   "cell_type": "markdown",
   "metadata": {},
   "source": [
    "<b>We can also use `*` multiplication for repitition</b>"
   ]
  },
  {
   "cell_type": "code",
   "execution_count": 39,
   "metadata": {},
   "outputs": [],
   "source": [
    "letter = \"a\""
   ]
  },
  {
   "cell_type": "code",
   "execution_count": 40,
   "metadata": {},
   "outputs": [
    {
     "data": {
      "text/plain": [
       "'aaaaaaaaaa'"
      ]
     },
     "execution_count": 40,
     "metadata": {},
     "output_type": "execute_result"
    }
   ],
   "source": [
    "letter*10"
   ]
  },
  {
   "cell_type": "markdown",
   "metadata": {},
   "source": [
    "## 5. String Methods:\n",
    "\n",
    "<b> There are certain built-in methods for string</b>\n",
    "\n",
    "    upper(): Converts all the elements into uppercase letters.\n",
    "    lower(): Converts all the elements into lowercase letters.\n",
    "    split():\n",
    "    title():\n",
    "    capitalize():\n",
    "    swapcase():"
   ]
  },
  {
   "cell_type": "code",
   "execution_count": null,
   "metadata": {},
   "outputs": [],
   "source": []
  }
 ],
 "metadata": {
  "kernelspec": {
   "display_name": "base",
   "language": "python",
   "name": "python3"
  },
  "language_info": {
   "codemirror_mode": {
    "name": "ipython",
    "version": 3
   },
   "file_extension": ".py",
   "mimetype": "text/x-python",
   "name": "python",
   "nbconvert_exporter": "python",
   "pygments_lexer": "ipython3",
   "version": "3.11.7"
  }
 },
 "nbformat": 4,
 "nbformat_minor": 2
}
