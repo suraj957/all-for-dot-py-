{
 "cells": [
  {
   "cell_type": "markdown",
   "metadata": {},
   "source": [
    "# Strings"
   ]
  },
  {
   "cell_type": "markdown",
   "metadata": {},
   "source": [
    "A <b>string</b> is a sequence of characters. Python treat everything inside the quotes as a string. The Strings include numbers, letter, and also symbols. Strings are used to recort text information, such as names. Python understands the string \"hello' to be a sequence of letters in a specific order. \n",
    "\n",
    "`Note:` A string is a sequence of characters. Python treat everything inside the quotes as a string. The Strings include numbers, letter, and also symbols."
   ]
  },
  {
   "cell_type": "code",
   "execution_count": 1,
   "metadata": {},
   "outputs": [
    {
     "name": "stdout",
     "output_type": "stream",
     "text": [
      "string\n"
     ]
    }
   ],
   "source": [
    "a = \"string\" # a is treated as a variable of value \"string\" but the word inside the quotes are treated as a String data type.\n",
    "print(a)"
   ]
  },
  {
   "cell_type": "markdown",
   "metadata": {},
   "source": [
    "<b>In this module, we can focus on some points:</b>\n",
    "\n",
    "1. `Creating Strings`\n",
    "2. `Printing Strings`\n",
    "3. `String Indexing and Slicing`\n",
    "4. `String Properties`\n",
    "5. `String Methods`\n",
    "6. `String Formatting`"
   ]
  },
  {
   "cell_type": "markdown",
   "metadata": {},
   "source": [
    "## 1. Creating a Strings\n",
    "\n",
    "### Methods of Creating a String:\n",
    "1. <b>We can use double quotes as to define string.</b> `( \"Examples\")`\n",
    "2. <b>We can also use single quotes to define strings.</b> `( 'Example1')`\n",
    "3. <b>And, we can also use double/ single quotes three times for multi-line strings.</b> `( \"\"\" Example this is a string line \"\"\" )` or `( ' ' ' Example this is also a multiline string example' ' ' )`"
   ]
  },
  {
   "cell_type": "markdown",
   "metadata": {},
   "source": [
    "#### Single Quote Assignment"
   ]
  },
  {
   "cell_type": "code",
   "execution_count": 2,
   "metadata": {},
   "outputs": [
    {
     "data": {
      "text/plain": [
       "'String'"
      ]
     },
     "execution_count": 2,
     "metadata": {},
     "output_type": "execute_result"
    }
   ],
   "source": [
    "# Single word String\n",
    "'String'"
   ]
  },
  {
   "cell_type": "code",
   "execution_count": 4,
   "metadata": {},
   "outputs": [
    {
     "data": {
      "text/plain": [
       "'This sentence is also a String'"
      ]
     },
     "execution_count": 4,
     "metadata": {},
     "output_type": "execute_result"
    }
   ],
   "source": [
    "# Phrase or sentences as a string\n",
    "'This sentence is also a String'"
   ]
  },
  {
   "cell_type": "markdown",
   "metadata": {},
   "source": [
    "#### Double Quote Assignment"
   ]
  },
  {
   "cell_type": "code",
   "execution_count": 5,
   "metadata": {},
   "outputs": [
    {
     "data": {
      "text/plain": [
       "'String'"
      ]
     },
     "execution_count": 5,
     "metadata": {},
     "output_type": "execute_result"
    }
   ],
   "source": [
    "# Single word String\n",
    "\"String\""
   ]
  },
  {
   "cell_type": "code",
   "execution_count": 6,
   "metadata": {},
   "outputs": [
    {
     "data": {
      "text/plain": [
       "'This sentence is also a String'"
      ]
     },
     "execution_count": 6,
     "metadata": {},
     "output_type": "execute_result"
    }
   ],
   "source": [
    "# Phrase or sentences as a string\n",
    "\"This sentence is also a String\""
   ]
  },
  {
   "cell_type": "markdown",
   "metadata": {},
   "source": [
    "`Errors:` We cannot use single quotes with single quotes, because it will give you a `Syntax Error:`. \n",
    "\n",
    "`Example:` 'I'm a string' # This is will give a `Syntax Error` because it will take `'I'` as only a string but the interpreter will get confused to dectect `3 quotes '` ."
   ]
  },
  {
   "cell_type": "code",
   "execution_count": 8,
   "metadata": {},
   "outputs": [
    {
     "ename": "SyntaxError",
     "evalue": "unterminated string literal (detected at line 2) (2550723548.py, line 2)",
     "output_type": "error",
     "traceback": [
      "\u001b[1;36m  Cell \u001b[1;32mIn[8], line 2\u001b[1;36m\u001b[0m\n\u001b[1;33m    'I'm a string, but I will give an SyntaxError'\u001b[0m\n\u001b[1;37m                                                 ^\u001b[0m\n\u001b[1;31mSyntaxError\u001b[0m\u001b[1;31m:\u001b[0m unterminated string literal (detected at line 2)\n"
     ]
    }
   ],
   "source": [
    "# Danger\n",
    "'I'm a string, but I will give an SyntaxError' "
   ]
  },
  {
   "cell_type": "markdown",
   "metadata": {},
   "source": [
    "## 2. Printing a String\n",
    "\n",
    "Strings can be printed by single line of and we can also use `print()` function."
   ]
  },
  {
   "cell_type": "code",
   "execution_count": 9,
   "metadata": {},
   "outputs": [
    {
     "data": {
      "text/plain": [
       "'Hello User'"
      ]
     },
     "execution_count": 9,
     "metadata": {},
     "output_type": "execute_result"
    }
   ],
   "source": [
    "# Declaring a string\n",
    "'Hello User'"
   ]
  },
  {
   "cell_type": "code",
   "execution_count": 10,
   "metadata": {},
   "outputs": [
    {
     "data": {
      "text/plain": [
       "'Hello User 2'"
      ]
     },
     "execution_count": 10,
     "metadata": {},
     "output_type": "execute_result"
    }
   ],
   "source": [
    "# But the fun fact is we cannot output multiple line of string by this\n",
    "'Hello User 1'\n",
    "'Hello User 2'"
   ]
  },
  {
   "cell_type": "markdown",
   "metadata": {},
   "source": [
    "<b> For the multiple line of outputs we use `print()` function "
   ]
  },
  {
   "cell_type": "code",
   "execution_count": 12,
   "metadata": {},
   "outputs": [
    {
     "name": "stdout",
     "output_type": "stream",
     "text": [
      "This is the 1st line\n",
      "This is the 2nd line\n",
      "We can use \n",
      " for a new line of code\n",
      "\n",
      "\n",
      "This is in new line\n"
     ]
    }
   ],
   "source": [
    "print(\"This is the 1st line\")\n",
    "print(\"This is the 2nd line\")\n",
    "print(\"We can use \\n for a new line of code\")\n",
    "# If we only print(\\n) then the text will get transfered to new line\n",
    "print(\"\\n\")\n",
    "print(\"This is in new line\")"
   ]
  },
  {
   "cell_type": "markdown",
   "metadata": {},
   "source": [
    "## 3. String Indexing and Slicing\n",
    "\n",
    "As we know, `strings` are the sequence of characters, so a user can access each and every element present in a `string`"
   ]
  },
  {
   "cell_type": "code",
   "execution_count": null,
   "metadata": {},
   "outputs": [],
   "source": []
  }
 ],
 "metadata": {
  "kernelspec": {
   "display_name": "base",
   "language": "python",
   "name": "python3"
  },
  "language_info": {
   "codemirror_mode": {
    "name": "ipython",
    "version": 3
   },
   "file_extension": ".py",
   "mimetype": "text/x-python",
   "name": "python",
   "nbconvert_exporter": "python",
   "pygments_lexer": "ipython3",
   "version": "3.11.7"
  }
 },
 "nbformat": 4,
 "nbformat_minor": 2
}
