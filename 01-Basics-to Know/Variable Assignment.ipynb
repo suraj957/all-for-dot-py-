{
 "cells": [
  {
   "cell_type": "markdown",
   "metadata": {},
   "source": [
    "## Variables\n",
    "\n",
    " Variables are used to store data that can be refered and manipulated during the program execution. In Python, variables are the names which are assigned to a value. Whereas in Python, unlike other programming langauge it dosen't require explicit declaration of the data-type. \n",
    "\n",
    " Variables acts as a placeholders for the data, they also allow us to store and reuse in our program. "
   ]
  },
  {
   "cell_type": "code",
   "execution_count": 3,
   "metadata": {},
   "outputs": [
    {
     "name": "stdout",
     "output_type": "stream",
     "text": [
      "5\n",
      "Jose\n"
     ]
    }
   ],
   "source": [
    "# Variable 'x' stores the value as 5. \n",
    "x = 5\n",
    "\n",
    "#We can also store the values as 'names' as 'Jose'.\n",
    "name = 'Jose'\n",
    "\n",
    "#we can print the varibles by calling the function as 'print()'\n",
    "print(x)\n",
    "print(name)"
   ]
  },
  {
   "cell_type": "markdown",
   "metadata": {},
   "source": [
    "#### Rules for Naming Variables\n",
    "\n",
    "<b>To use variables efficienty and effectively, we must follow certain rules:</b>\n",
    "\n",
    "1. Variables can only contain <b>Letters(A, a, B, b....), Digits(1, 2, 3, 4, 56....)</b> and <b>Underscores(_)</b>\n",
    "2. A Vaiable name cannot start with a digit.\n",
    "3. Variable names are strictly case-sensitive. (<i>myVar</i> cannot be used as <i>myvar</i>)\n",
    "4. Variable names should always be avoided to be used on <b>python keywords</b>. (e.g. <i>if, else, for, while</i>)"
   ]
  },
  {
   "cell_type": "code",
   "execution_count": 4,
   "metadata": {},
   "outputs": [],
   "source": [
    "# Valid Syntax Examples:\n",
    "age = 12\n",
    "_colour = \"Organge\"\n",
    "Total_score = 210\n",
    "num1 = 2\n",
    "num_2 = 5"
   ]
  },
  {
   "cell_type": "code",
   "execution_count": 5,
   "metadata": {},
   "outputs": [
    {
     "ename": "SyntaxError",
     "evalue": "invalid decimal literal (274046407.py, line 2)",
     "output_type": "error",
     "traceback": [
      "\u001b[1;36m  Cell \u001b[1;32mIn[5], line 2\u001b[1;36m\u001b[0m\n\u001b[1;33m    1name= \"Error\" # Starts with a digit\u001b[0m\n\u001b[1;37m    ^\u001b[0m\n\u001b[1;31mSyntaxError\u001b[0m\u001b[1;31m:\u001b[0m invalid decimal literal\n"
     ]
    }
   ],
   "source": [
    "# Invalid syntax Examples:\n",
    "1name= \"Error\" # Starts with a digit\n",
    "class = 10 # 'class' is a reserved keyword in python\n",
    "user-name = \"Jose\" # Contain as hyphen"
   ]
  },
  {
   "cell_type": "markdown",
   "metadata": {},
   "source": [
    "### Assigning Values to Variables\n",
    "\n",
    "#### Basic Assignment\n",
    "\n",
    " Vaeiables in python are assigned values using the ( = ) equals to operator. "
   ]
  },
  {
   "cell_type": "code",
   "execution_count": 6,
   "metadata": {},
   "outputs": [],
   "source": [
    "x = 5\n",
    "y = 3.14\n",
    "z = \"Hello World\""
   ]
  },
  {
   "cell_type": "markdown",
   "metadata": {},
   "source": [
    "### Dynamic Typing\n",
    "\n",
    " Python variables are dynamically typed, as the same variables can hld different type of values during execution. "
   ]
  },
  {
   "cell_type": "code",
   "execution_count": 7,
   "metadata": {},
   "outputs": [],
   "source": [
    "x = 10\n",
    "x = \"Now this is a String/ Sentence\""
   ]
  },
  {
   "cell_type": "markdown",
   "metadata": {},
   "source": [
    "### Advantages and Disadvantages of Dyanmic Typing\n",
    "\n",
    "\n",
    "<b>Advantages:</b>\n",
    "* Easy to use and work in the set of codes.\n",
    "* Easy reacll process, so faster development time.\n",
    "\n",
    "<b>Disadvantages:</b>\n",
    "* Unwanted bugs\n",
    "* Have to be aware of `type()` - Type Casting\n",
    "\n"
   ]
  },
  {
   "cell_type": "markdown",
   "metadata": {},
   "source": [
    "### Multiple Variable Assignemt\n",
    "\n",
    "Python allows multiple variables to be assigned values at a single time. \n",
    "\n",
    "<b>Assigning the same value</b>\n",
    "\n",
    " Python allows assigning the same values to multiple variables in the same line, which can be useful for initializing the variables with the same values. "
   ]
  },
  {
   "cell_type": "code",
   "execution_count": 10,
   "metadata": {},
   "outputs": [
    {
     "name": "stdout",
     "output_type": "stream",
     "text": [
      "1000 1000 1000\n",
      "10 20 30\n"
     ]
    }
   ],
   "source": [
    "# Multipple Assignment at a time.\n",
    "a = b = c = 1000\n",
    "print(a, b, c) # Output: 1000 1000 1000\n",
    "\n",
    "# Multiple Values assigned to multiple Variables\n",
    "a, b, c = 10, 20, 30\n",
    "print(a, b, c) # Output: 10 20 30"
   ]
  },
  {
   "cell_type": "markdown",
   "metadata": {},
   "source": [
    "### Let's play"
   ]
  },
  {
   "cell_type": "code",
   "execution_count": 14,
   "metadata": {},
   "outputs": [
    {
     "name": "stdout",
     "output_type": "stream",
     "text": [
      "15\n"
     ]
    }
   ],
   "source": [
    "a = 5\n",
    "a = a +10\n",
    "print(a)"
   ]
  },
  {
   "cell_type": "markdown",
   "metadata": {},
   "source": [
    " Above is the traditional way to add and store/ update something in the variable.\n",
    " \n",
    " But there are several shortcuts to follow, <b>Python</b> let's you <b>Add, Substract, Multiply and Divide</b> numbers with reassignment using `+=`, `-=`, `*=` and `/=`. \n",
    "\n",
    " Let's see some examples,"
   ]
  },
  {
   "cell_type": "code",
   "execution_count": null,
   "metadata": {},
   "outputs": [
    {
     "data": {
      "text/plain": [
       "25"
      ]
     },
     "execution_count": 15,
     "metadata": {},
     "output_type": "execute_result"
    }
   ],
   "source": [
    "# Here in this code a = 15 from above calculations and 10 is added to 15\n",
    "a += 10\n",
    "a   # Output = 25"
   ]
  },
  {
   "cell_type": "markdown",
   "metadata": {},
   "source": [
    "Same we can use `-=`, `*=` and also `/=`,"
   ]
  },
  {
   "cell_type": "code",
   "execution_count": null,
   "metadata": {},
   "outputs": [
    {
     "name": "stdout",
     "output_type": "stream",
     "text": [
      "40\n"
     ]
    }
   ],
   "source": [
    "# Assigning Value to a variable b as 50\n",
    "b = 50\n",
    "\n",
    "# Substraction\n",
    "b -= 10\n",
    "\n",
    "print(b)    # Output: 40"
   ]
  },
  {
   "cell_type": "code",
   "execution_count": 22,
   "metadata": {},
   "outputs": [
    {
     "name": "stdout",
     "output_type": "stream",
     "text": [
      "100\n"
     ]
    }
   ],
   "source": [
    "# Assigning Value to a variable \"c\" as 50\n",
    "c = 50\n",
    "\n",
    "# Multiplication\n",
    "c *= 2\n",
    "\n",
    "print(c)    # Output: 100"
   ]
  },
  {
   "cell_type": "code",
   "execution_count": null,
   "metadata": {},
   "outputs": [
    {
     "name": "stdout",
     "output_type": "stream",
     "text": [
      "25.0\n"
     ]
    }
   ],
   "source": [
    "# Assigning Value to a variable \"d\" as 50\n",
    "d = 50\n",
    "\n",
    "# Division\n",
    "d /= 2\n",
    "\n",
    "print(d)    # Output: 25.0"
   ]
  },
  {
   "cell_type": "markdown",
   "metadata": {},
   "source": [
    " Now we know about methods of assigning values to a variable. But we're unaware that how the values are stored and also, the `type()` of the variable."
   ]
  },
  {
   "cell_type": "markdown",
   "metadata": {},
   "source": [
    "## Determining the variable type by `type()` function:\n",
    "\n",
    "We can check what type of object is assignined to a variable by the built in function as `type()`. As Example: \n",
    "\n",
    "* <b>int()</b> --> for integers\n",
    "* <b>float()</b> --> for floating points\n",
    "* <b>str()</b> --> for Strings\n",
    "* <b>list()</b> --> for lists\n",
    "* <b>tuple()</b> --> for tuples\n",
    "* <b>dict()</b> --> for dictionaries\n",
    "* <b>set()</b> --> for sets\n",
    "* <b>bool()</b> --> for boolean <i>(True, False)</i>"
   ]
  },
  {
   "cell_type": "code",
   "execution_count": 30,
   "metadata": {},
   "outputs": [
    {
     "name": "stdout",
     "output_type": "stream",
     "text": [
      "<class 'int'>\n",
      "<class 'str'>\n",
      "<class 'tuple'>\n",
      "<class 'bool'>\n"
     ]
    }
   ],
   "source": [
    "\"\"\" Integer \"\"\"\n",
    "a = 45\n",
    "print(type(a)) # Returns the type of value is stored in variable.  \n",
    "# Output: int\n",
    "\n",
    "\"\"\" Strings \"\"\"\n",
    "b = \"This is a string\"\n",
    "print(type(b)) # Returns the type of value is stored in variable.  \n",
    "# Output: str\n",
    "\n",
    "\"\"\" Tuple \"\"\"\n",
    "c = (1, 2, 4)\n",
    "print(type(c)) # Returns the type of value is stored in variable.  \n",
    "# Output: Tuple\n",
    "\n",
    "\"\"\" Boolean \"\"\"\n",
    "d = True\n",
    "print(type(d)) # Returns the type of value is stored in variable.\n",
    "# Output: Bool\n",
    "\n",
    "# And as same we can determine any Variable tupe by using type() function "
   ]
  },
  {
   "cell_type": "markdown",
   "metadata": {},
   "source": [
    "## Type Casting:\n",
    "\n",
    " Type Casting is the method of converting one datatype into another. Python provides several built-in functions to facilitate casting, including `int()`, `float()` and `str()` among others. \n",
    "\n",
    "<b>Most used Casting Functions:</b>\n",
    "\n",
    "* <b>int()</b> – Converts compatible values to an integer.\n",
    "* <b>float()</b> – Transforms values into floating-point numbers.\n",
    "* <b>str()</b> – Converts any data type into a string."
   ]
  },
  {
   "cell_type": "code",
   "execution_count": 3,
   "metadata": {},
   "outputs": [
    {
     "name": "stdout",
     "output_type": "stream",
     "text": [
      "10\n",
      "5\n",
      "50\n",
      "<class 'int'>\n",
      "<class 'float'>\n",
      "<class 'str'>\n",
      "Hello World\n"
     ]
    }
   ],
   "source": [
    "# Type Casting Variables:\n",
    "s = \"10\"    # Initially variable s is carrying the value 10 as \"String\"\n",
    "count = 5   # Initially variable \"count\" is carrying the value 5 as \"int\"\n",
    "age = 50   # Initially variable \"age\" is carrying the value 50 as \"int\"\n",
    "\n",
    "n = int(s)              # Type casting \"s\" into \"int\" \n",
    "cnt = float(count)      # Type casting \"count\" into \"float\" \n",
    "final_age = str(age)    # Type casting \"count\" into \"string\"\n",
    "\n",
    "# Returning initail values\n",
    "print(s)\n",
    "print(count)\n",
    "print(age)\n",
    "\n",
    "# Returning Outputs\n",
    "print(type(n))\n",
    "print(type(cnt))\n",
    "print(type(final_age)) \n",
    "\n",
    "print(\"Hello World\")\n",
    "\n"
   ]
  },
  {
   "cell_type": "code",
   "execution_count": null,
   "metadata": {},
   "outputs": [],
   "source": []
  }
 ],
 "metadata": {
  "kernelspec": {
   "display_name": "base",
   "language": "python",
   "name": "python3"
  },
  "language_info": {
   "codemirror_mode": {
    "name": "ipython",
    "version": 3
   },
   "file_extension": ".py",
   "mimetype": "text/x-python",
   "name": "python",
   "nbconvert_exporter": "python",
   "pygments_lexer": "ipython3",
   "version": "3.11.7"
  }
 },
 "nbformat": 4,
 "nbformat_minor": 2
}
